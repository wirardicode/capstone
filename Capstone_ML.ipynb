{
  "nbformat": 4,
  "nbformat_minor": 0,
  "metadata": {
    "colab": {
      "provenance": []
    },
    "kernelspec": {
      "name": "python3",
      "display_name": "Python 3"
    },
    "language_info": {
      "name": "python"
    }
  },
  "cells": [
    {
      "cell_type": "code",
      "execution_count": 33,
      "metadata": {
        "colab": {
          "base_uri": "https://localhost:8080/"
        },
        "id": "QdMmZFCkTDnb",
        "outputId": "893b5380-873e-4d16-9afa-8183865500a5"
      },
      "outputs": [
        {
          "output_type": "stream",
          "name": "stdout",
          "text": [
            "<class 'pandas.core.frame.DataFrame'>\n",
            "RangeIndex: 2461 entries, 0 to 2460\n",
            "Data columns (total 8 columns):\n",
            " #   Column          Non-Null Count  Dtype  \n",
            "---  ------          --------------  -----  \n",
            " 0   Date            2461 non-null   object \n",
            " 1   Mode            2461 non-null   object \n",
            " 2   Category        2461 non-null   object \n",
            " 3   Subcategory     1826 non-null   object \n",
            " 4   Note            1940 non-null   object \n",
            " 5   Amount          2461 non-null   float64\n",
            " 6   Income/Expense  2461 non-null   object \n",
            " 7   Currency        2461 non-null   object \n",
            "dtypes: float64(1), object(7)\n",
            "memory usage: 153.9+ KB\n",
            "None\n",
            "                  Date                   Mode        Category  \\\n",
            "0  20/09/2018 12:04:08                   Cash  Transportation   \n",
            "1  20/09/2018 12:03:15                   Cash            Food   \n",
            "2           19/09/2018  Saving Bank account 1    subscription   \n",
            "3  17/09/2018 23:41:17  Saving Bank account 1    subscription   \n",
            "4  16/09/2018 17:15:08                   Cash       Festivals   \n",
            "\n",
            "               Subcategory                         Note  Amount  \\\n",
            "0                    Train         2 Place 5 to Place 0    30.0   \n",
            "1                   snacks  Idli medu Vada mix 2 plates    60.0   \n",
            "2                  Netflix         1 month subscription   199.0   \n",
            "3  Mobile Service Provider            Data booster pack    19.0   \n",
            "4             Ganesh Pujan                  Ganesh idol   251.0   \n",
            "\n",
            "  Income/Expense Currency  \n",
            "0        Expense      INR  \n",
            "1        Expense      INR  \n",
            "2        Expense      INR  \n",
            "3        Expense      INR  \n",
            "4        Expense      INR  \n"
          ]
        }
      ],
      "source": [
        "import pandas as pd\n",
        "\n",
        "# Memuat dataset\n",
        "file_name = 'Daily Transactions.csv'  # Change this to the correct file name if different\n",
        "data = pd.read_csv(file_name)\n",
        "# Memeriksa informasi dataset\n",
        "print(data.info())\n",
        "print(data.head())"
      ]
    },
    {
      "cell_type": "code",
      "source": [
        "# Fungsi untuk mengkategorikan transaksi\n",
        "def categorize_transaction(category, amount):\n",
        "    primary_keywords = ['food', 'family', 'household', 'health', 'self-development', 'education', 'rent']\n",
        "    secondary_keywords = ['transportation', 'funding', 'life insurance', 'beauty', 'maid', 'money transfer', 'recurring deposit', 'tourism', 'investment']\n",
        "    tertiary_keywords = ['subscription', 'festivals', 'apparel', 'gift', 'culture', 'other']\n",
        "\n",
        "    category = category.lower()\n",
        "    if any(keyword in category for keyword in primary_keywords):\n",
        "        return 'Primary'\n",
        "    elif any(keyword in category for keyword in secondary_keywords):\n",
        "        return 'Secondary'\n",
        "    elif any(keyword in category for keyword in tertiary_keywords):\n",
        "        return 'Tertiary'\n",
        "    else:\n",
        "        # Fallback category\n",
        "        return 'Secondary' if amount < 100 else 'Tertiary'\n",
        "\n",
        "# Menerapkan fungsi kategorisasi\n",
        "data['Category_Type'] = data.apply(lambda row: categorize_transaction(row['Category'], row['Amount']), axis=1)\n",
        "\n",
        "# Menghitung persentase setiap kategori\n",
        "category_counts = data['Category_Type'].value_counts(normalize=True) * 100\n",
        "print(category_counts)\n"
      ],
      "metadata": {
        "colab": {
          "base_uri": "https://localhost:8080/"
        },
        "id": "5LCJ9KLoUmku",
        "outputId": "6087f186-aa5c-4bbd-a057-643fbcf77b04"
      },
      "execution_count": 46,
      "outputs": [
        {
          "output_type": "stream",
          "name": "stdout",
          "text": [
            "Category_Type\n",
            "Primary      51.686306\n",
            "Secondary    24.380333\n",
            "Tertiary     23.933360\n",
            "Name: proportion, dtype: float64\n"
          ]
        }
      ]
    },
    {
      "cell_type": "code",
      "source": [
        "import tensorflow as tf\n",
        "from tensorflow.keras.preprocessing.text import Tokenizer\n",
        "from tensorflow.keras.preprocessing.sequence import pad_sequences\n",
        "from sklearn.preprocessing import LabelEncoder\n",
        "from sklearn.model_selection import train_test_split\n",
        "\n",
        "# Mempersiapkan data\n",
        "categories = data['Category'].values\n",
        "category_types = data['Category_Type'].values\n",
        "\n",
        "# Tokenisasi kategori\n",
        "tokenizer = Tokenizer(num_words=1000)\n",
        "tokenizer.fit_on_texts(categories)\n",
        "sequences = tokenizer.texts_to_sequences(categories)\n",
        "padded_sequences = pad_sequences(sequences, maxlen=100)\n",
        "\n",
        "# Encode kategori tipe\n",
        "label_encoder = LabelEncoder()\n",
        "encoded_labels = label_encoder.fit_transform(category_types)\n",
        "\n",
        "# Membagi data menjadi set pelatihan dan pengujian\n",
        "X_train, X_test, y_train, y_test = train_test_split(padded_sequences, encoded_labels, test_size=0.2, random_state=42)\n",
        "\n",
        "# Membangun model\n",
        "model = tf.keras.Sequential([\n",
        "    tf.keras.layers.Embedding(input_dim=1000, output_dim=64, input_length=100),\n",
        "    tf.keras.layers.GlobalAveragePooling1D(),\n",
        "    tf.keras.layers.Dense(64, activation='relu'),\n",
        "    tf.keras.layers.Dense(3, activation='softmax')\n",
        "])\n",
        "\n",
        "# Mengompilasi model\n",
        "model.compile(optimizer='adam', loss='sparse_categorical_crossentropy', metrics=['accuracy'])\n",
        "\n",
        "# Melatih model\n",
        "history = model.fit(X_train, y_train, epochs=10, validation_data=(X_test, y_test))\n",
        "\n",
        "# Mengevaluasi model\n",
        "loss, accuracy = model.evaluate(X_test, y_test)\n",
        "print(f\"Test Accuracy: {accuracy*100:.2f}%\")\n"
      ],
      "metadata": {
        "colab": {
          "base_uri": "https://localhost:8080/"
        },
        "id": "xigUPdaHVQlN",
        "outputId": "70871528-c84a-4ea5-f90f-e86a16731eba"
      },
      "execution_count": 47,
      "outputs": [
        {
          "output_type": "stream",
          "name": "stdout",
          "text": [
            "Epoch 1/10\n",
            "62/62 [==============================] - 3s 11ms/step - loss: 1.0448 - accuracy: 0.4975 - val_loss: 1.0268 - val_accuracy: 0.5172\n",
            "Epoch 2/10\n",
            "62/62 [==============================] - 0s 7ms/step - loss: 1.0213 - accuracy: 0.5168 - val_loss: 1.0174 - val_accuracy: 0.5172\n",
            "Epoch 3/10\n",
            "62/62 [==============================] - 0s 6ms/step - loss: 1.0163 - accuracy: 0.5168 - val_loss: 1.0100 - val_accuracy: 0.5172\n",
            "Epoch 4/10\n",
            "62/62 [==============================] - 0s 6ms/step - loss: 1.0044 - accuracy: 0.5168 - val_loss: 0.9913 - val_accuracy: 0.5172\n",
            "Epoch 5/10\n",
            "62/62 [==============================] - 0s 7ms/step - loss: 0.9773 - accuracy: 0.5168 - val_loss: 0.9554 - val_accuracy: 0.5172\n",
            "Epoch 6/10\n",
            "62/62 [==============================] - 0s 5ms/step - loss: 0.9149 - accuracy: 0.5168 - val_loss: 0.8527 - val_accuracy: 0.5558\n",
            "Epoch 7/10\n",
            "62/62 [==============================] - 0s 4ms/step - loss: 0.7697 - accuracy: 0.6032 - val_loss: 0.6671 - val_accuracy: 0.6957\n",
            "Epoch 8/10\n",
            "62/62 [==============================] - 0s 5ms/step - loss: 0.5910 - accuracy: 0.8054 - val_loss: 0.5060 - val_accuracy: 0.9108\n",
            "Epoch 9/10\n",
            "62/62 [==============================] - 0s 6ms/step - loss: 0.4577 - accuracy: 0.9451 - val_loss: 0.4147 - val_accuracy: 0.9574\n",
            "Epoch 10/10\n",
            "62/62 [==============================] - 0s 6ms/step - loss: 0.3906 - accuracy: 0.9395 - val_loss: 0.3667 - val_accuracy: 0.8337\n",
            "16/16 [==============================] - 0s 4ms/step - loss: 0.3667 - accuracy: 0.8337\n",
            "Test Accuracy: 83.37%\n"
          ]
        }
      ]
    }
  ]
}